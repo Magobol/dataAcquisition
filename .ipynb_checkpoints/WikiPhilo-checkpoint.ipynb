{
 "cells": [
  {
   "cell_type": "code",
   "execution_count": 42,
   "metadata": {},
   "outputs": [],
   "source": [
    "import requests as r\n",
    "from bs4 import BeautifulSoup"
   ]
  },
  {
   "cell_type": "code",
   "execution_count": 1,
   "metadata": {},
   "outputs": [],
   "source": [
    "def liste_refs(link):\n",
    "    try: \n",
    "        data = r.get(link).content\n",
    "        soup = BeautifulSoup(data, 'html.parser')\n",
    "        list_ref = [str(soup.select('body p a')[i]).split(\"\\\"\")[1] for i in range(0,len(list(soup.select('body p a'))))]\n",
    "        return list_ref\n",
    "    except: \n",
    "        return []\n",
    "\n",
    "\n",
    "def comp_refs(link):\n",
    "    refs = liste_refs(link)\n",
    "    temp = []\n",
    "    for i in range(0,len(refs)):        \n",
    "        new_refs = liste_refs(refs[i])\n",
    "        temp = temp + new_refs\n",
    "        \n",
    "    return temp\n",
    "        \n",
    "def distance_a_philo(link):\n",
    "    wiki_path = \"https://fr.wikipedia.org\"\n",
    "    link_philo = \"/wiki/Philosophie\" \n",
    "    distance = 1\n",
    "    l = liste_refs(link)\n",
    "    \n",
    "    while ((link_philo in l )==False):\n",
    "        distance = distance + 1\n",
    "        l = comp_refs(link)\n",
    "        link_philo = link_philo in l\n",
    "    \n",
    "    return distance\n",
    "            "
   ]
  },
  {
   "cell_type": "code",
   "execution_count": 60,
   "metadata": {},
   "outputs": [],
   "source": []
  },
  {
   "cell_type": "code",
   "execution_count": 2,
   "metadata": {},
   "outputs": [
    {
     "ename": "KeyboardInterrupt",
     "evalue": "",
     "output_type": "error",
     "traceback": [
      "\u001b[0;31m---------------------------------------------------------------------------\u001b[0m",
      "\u001b[0;31mKeyboardInterrupt\u001b[0m                         Traceback (most recent call last)",
      "\u001b[0;32m<ipython-input-2-45033faeee83>\u001b[0m in \u001b[0;36m<module>\u001b[0;34m\u001b[0m\n\u001b[0;32m----> 1\u001b[0;31m \u001b[0mdistance_a_philo\u001b[0m\u001b[0;34m(\u001b[0m\u001b[0;34m\"https://fr.wikipedia.org/wiki/Socrate\"\u001b[0m\u001b[0;34m)\u001b[0m\u001b[0;34m\u001b[0m\u001b[0;34m\u001b[0m\u001b[0m\n\u001b[0m",
      "\u001b[0;32m<ipython-input-1-d59bd151e644>\u001b[0m in \u001b[0;36mdistance_a_philo\u001b[0;34m(link)\u001b[0m\n\u001b[1;32m     26\u001b[0m     \u001b[0;32mwhile\u001b[0m \u001b[0;34m(\u001b[0m\u001b[0;34m(\u001b[0m\u001b[0mlink_philo\u001b[0m \u001b[0;32min\u001b[0m \u001b[0ml\u001b[0m \u001b[0;34m)\u001b[0m\u001b[0;34m==\u001b[0m\u001b[0;32mFalse\u001b[0m\u001b[0;34m)\u001b[0m\u001b[0;34m:\u001b[0m\u001b[0;34m\u001b[0m\u001b[0;34m\u001b[0m\u001b[0m\n\u001b[1;32m     27\u001b[0m         \u001b[0mdistance\u001b[0m \u001b[0;34m=\u001b[0m \u001b[0mdistance\u001b[0m \u001b[0;34m+\u001b[0m \u001b[0;36m1\u001b[0m\u001b[0;34m\u001b[0m\u001b[0;34m\u001b[0m\u001b[0m\n\u001b[0;32m---> 28\u001b[0;31m         \u001b[0ml\u001b[0m \u001b[0;34m=\u001b[0m \u001b[0mcomp_refs\u001b[0m\u001b[0;34m(\u001b[0m\u001b[0mlink\u001b[0m\u001b[0;34m)\u001b[0m\u001b[0;34m\u001b[0m\u001b[0;34m\u001b[0m\u001b[0m\n\u001b[0m\u001b[1;32m     29\u001b[0m         \u001b[0mlink_philo\u001b[0m \u001b[0;34m=\u001b[0m \u001b[0mlink_philo\u001b[0m \u001b[0;32min\u001b[0m \u001b[0ml\u001b[0m\u001b[0;34m\u001b[0m\u001b[0;34m\u001b[0m\u001b[0m\n\u001b[1;32m     30\u001b[0m \u001b[0;34m\u001b[0m\u001b[0m\n",
      "\u001b[0;31mKeyboardInterrupt\u001b[0m: "
     ]
    }
   ],
   "source": [
    "distance_a_philo(\"https://fr.wikipedia.org/wiki/Socrate\")"
   ]
  }
 ],
 "metadata": {
  "kernelspec": {
   "display_name": "Python 3",
   "language": "python",
   "name": "python3"
  },
  "language_info": {
   "codemirror_mode": {
    "name": "ipython",
    "version": 3
   },
   "file_extension": ".py",
   "mimetype": "text/x-python",
   "name": "python",
   "nbconvert_exporter": "python",
   "pygments_lexer": "ipython3",
   "version": "3.7.3"
  }
 },
 "nbformat": 4,
 "nbformat_minor": 2
}
