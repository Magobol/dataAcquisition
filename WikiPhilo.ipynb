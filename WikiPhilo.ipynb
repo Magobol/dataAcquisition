{
 "cells": [
  {
   "cell_type": "code",
   "execution_count": 42,
   "metadata": {},
   "outputs": [],
   "source": [
    "import requests as r\n",
    "from bs4 import BeautifulSoup"
   ]
  },
  {
   "cell_type": "code",
   "execution_count": 74,
   "metadata": {},
   "outputs": [],
   "source": [
    "def liste_refs(link):\n",
    "    try: \n",
    "        data = r.get(link).content\n",
    "        soup = BeautifulSoup(data, 'html.parser')\n",
    "        list_ref = [str(soup.select('body p a')[i]).split(\"\\\"\")[1] for i in range(0,len(list(soup.select('body p a'))))]\n",
    "        return list_ref\n",
    "    except: \n",
    "        return []\n",
    "\n",
    "\n",
    "def comp_refs(link):\n",
    "    refs = liste_refs(link)\n",
    "    temp = []\n",
    "    for i in range(0,len(refs)):        \n",
    "        new_refs = liste_refs(refs[i])\n",
    "        temp = temp + new_refs\n",
    "        \n",
    "    return temp\n",
    "        \n",
    "def distance_a_philo(link):\n",
    "    wiki_path = \"https://fr.wikipedia.org\"\n",
    "    link_philo = \"/wiki/Philosophie\" \n",
    "    distance = 1\n",
    "    l = liste_refs(link)\n",
    "    \n",
    "    while ((link_philo in l )==False):\n",
    "        distance = distance + 1\n",
    "        l = comp_refs(link)\n",
    "        link_philo = link_philo in l\n",
    "    \n",
    "    return distance\n",
    "            "
   ]
  },
  {
   "cell_type": "code",
   "execution_count": 60,
   "metadata": {},
   "outputs": [],
   "source": []
  },
  {
   "cell_type": "code",
   "execution_count": null,
   "metadata": {},
   "outputs": [],
   "source": [
    "distance_a_philo(\"https://fr.wikipedia.org/wiki/Socrate\")"
   ]
  }
 ],
 "metadata": {
  "kernelspec": {
   "display_name": "Python 3",
   "language": "python",
   "name": "python3"
  },
  "language_info": {
   "codemirror_mode": {
    "name": "ipython",
    "version": 3
   },
   "file_extension": ".py",
   "mimetype": "text/x-python",
   "name": "python",
   "nbconvert_exporter": "python",
   "pygments_lexer": "ipython3",
   "version": "3.7.3"
  }
 },
 "nbformat": 4,
 "nbformat_minor": 2
}
