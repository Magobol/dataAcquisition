{
 "cells": [
  {
   "cell_type": "code",
   "execution_count": 296,
   "metadata": {
    "scrolled": true
   },
   "outputs": [
    {
     "name": "stdout",
     "output_type": "stream",
     "text": [
      "(2, 1, 1)\n",
      "(2288, 21)\n",
      "(3, 1, 1)\n",
      "(2435, 21)\n",
      "(3, 1, 2)\n",
      "(1368, 21)\n"
     ]
    },
    {
     "name": "stderr",
     "output_type": "stream",
     "text": [
      "/home/jorge/anaconda3/lib/python3.7/site-packages/pandas/core/frame.py:6692: FutureWarning: Sorting because non-concatenation axis is not aligned. A future version\n",
      "of pandas will change to not sort by default.\n",
      "\n",
      "To accept the future behavior, pass 'sort=False'.\n",
      "\n",
      "To retain the current behavior and silence the warning, pass 'sort=True'.\n",
      "\n",
      "  sort=sort)\n"
     ]
    },
    {
     "name": "stdout",
     "output_type": "stream",
     "text": [
      "(3, 1, 3)\n",
      "(3, 19)\n",
      "(3, 2, 1)\n",
      "(2239, 21)\n",
      "(3, 2, 2)\n",
      "(1305, 21)\n",
      "(3, 2, 3)\n",
      "(1, 12)\n",
      "(3, 3, 1)\n",
      "(2251, 21)\n",
      "(3, 3, 2)\n",
      "(1558, 21)\n",
      "(3, 3, 3)\n",
      "(1, 16)\n",
      "(4, 1, 1)\n",
      "(2, 12)\n",
      "(4, 1, 2)\n",
      "(402, 21)\n",
      "(4, 1, 3)\n",
      "(1294, 21)\n",
      "(4, 1, 4)\n",
      "(309, 12)\n",
      "(4, 2, 1)\n",
      "(53, 21)\n",
      "(4, 2, 2)\n",
      "(770, 21)\n",
      "(4, 2, 3)\n",
      "(2507, 21)\n",
      "(4, 2, 4)\n",
      "(1019, 21)\n",
      "(4, 3, 1)\n",
      "(107, 21)\n",
      "(4, 3, 2)\n",
      "(1566, 21)\n",
      "(4, 3, 3)\n",
      "(1655, 21)\n",
      "(4, 3, 4)\n",
      "(1105, 21)\n",
      "(4, 4, 1)\n",
      "(410, 21)\n",
      "(4, 4, 2)\n",
      "(2202, 21)\n",
      "(4, 4, 3)\n",
      "(1739, 21)\n",
      "(4, 4, 4)\n",
      "(1075, 21)\n"
     ]
    }
   ],
   "source": [
    "import requests as r\n",
    "import json\n",
    "from pandas.io.json import json_normalize\n",
    "import pandas as pd\n",
    "headers =  {'Accept':'text/html,application/xhtml+xml,application/xml;q=0.9,*/*;q=0.8',\\\n",
    "            'Accept-Encoding':'',\\\n",
    "            'Accept-Language':'en-US,en;q=0.5',\\\n",
    "            'Connection':'keep-alive',\\\n",
    "            'User-Agent':'Mozilla/5.0 (X11; Ubuntu; Linux x86_64; rv:69.0) Gecko/20100101 Firefox/69.0',\\\n",
    "            'Vessel-Image':'002f40ca5a525116eb93e6cc78a359dd5f10',\\\n",
    "           }\n",
    "#     'X-Requested-With':'XMLHttpRequest',\\\n",
    "#     'Upgrade-Insecure-Requests':'1',\n",
    "#     \"Date\": \"Fri, 11 Oct 2019 11:10:29 GMT\",\\\n",
    "#     \"Content-Type\": \"application/json; charset=UTF-8\",\\\n",
    "#     \"Transfer-Encoding\": \"chunked\",\\\n",
    "#     \"Connection\": \"keep-alive\",\\\n",
    "#     \"Expires\": \"Fri, 11 Oct 2019 12:07:51 GMT\",\\\n",
    "#     \"Access-Control-Allow-Origin\": \"http://www.marinetraffic.com\",\\\n",
    "#     \"Access-Control-Allow-Credentials\": \"true\",\\\n",
    "#     \"X_UA\": \"None\",\\\n",
    "#     \"X-Cache\": \"HIT\",\\\n",
    "#     \"X-Cache-Hits\": \"42\",\\\n",
    "#     \"Strict-Transport-Security\": \"max-age=15552000; includeSubDomains\",\\\n",
    "#     \"Vary\": \"Accept-Encoding, X_UA\",\\\n",
    "#     \"CF-Cache-Status\": \"DYNAMIC\",\\\n",
    "#     \"Expect-CT\": \"max-age=604800, report-uri='https://report-uri.cloudflare.com/cdn-cgi/beacon/expect-ct'\",\\\n",
    "#     \"Server\": \"cloudflare\",\\\n",
    "#     \"CF-RAY\": \"524063486954cdbb-CDG\"}\n",
    "\n",
    "#l=r.get(\"https://www.marinetraffic.com/getData/get_data_json_4/z:2/X:1/Y:1/station:0\", headers = headers)\n",
    "df = pd.DataFrame()\n",
    "for i in range(1,5):\n",
    "    for j in range(1,5):\n",
    "        for k in range(1,5):\n",
    "            try:\n",
    "                url = \"https://www.marinetraffic.com/getData/get_data_json_4/z:{}/X:{}/Y:{}/station:0\".format(i,j,k)\n",
    "                l=r.get(url, headers = headers)  \n",
    "                m=json.loads(l.text)\n",
    "                df1 = json_normalize(m['data']['rows'])\n",
    "                df = df.append(df1)\n",
    "                print((i,j,k)), print(df1.shape)\n",
    "            except:\n",
    "                continue"
   ]
  },
  {
   "cell_type": "code",
   "execution_count": 327,
   "metadata": {
    "scrolled": true
   },
   "outputs": [
    {
     "data": {
      "text/plain": [
       "array(['TWpjeE1UTXlNamN4TVRNeU1qY3hNUT09LW8rbkpGY3k5d0RyZ2JmMm5XdTN2aWc9PQ==',\n",
       "       'TXpVME5UYzRNelUwTlRjNE16VTBOUT09LWpCNTNDSStTbzkyN0l4blQ5M0RCL3c9PQ==',\n",
       "       'TmpBMk5UUXlOakEyTlRReU5qQTJOUT09LStDS1Q1RVV2TzRSSjB1dXdqb2RzUHc9PQ==',\n",
       "       ...,\n",
       "       'T0RJMU5qUXlPREkxTmpReU9ESTFOZz09LXlDVnpsdk8xYlptbjd0UFFRanpoSmc9PQ==',\n",
       "       'TXpZek5UUTBNell6TlRRME16WXpOUT09LTlkQ0ZmY2tYeExSMmoxQURwdHZPd2c9PQ==',\n",
       "       'TXpFek9ESTJNekV6T0RJMk16RXpPQT09LXg3eFlCSkJ3U1h5c2NGNlZwcjNYOEE9PQ=='],\n",
       "      dtype=object)"
      ]
     },
     "execution_count": 327,
     "metadata": {},
     "output_type": "execute_result"
    }
   ],
   "source": [
    "df[df[\"SHIPNAME\"]==\"[SAT-AIS]\"][\"SHIP_ID\"].unique()"
   ]
  },
  {
   "cell_type": "code",
   "execution_count": 312,
   "metadata": {},
   "outputs": [
    {
     "data": {
      "text/plain": [
       "8314"
      ]
     },
     "execution_count": 312,
     "metadata": {},
     "output_type": "execute_result"
    }
   ],
   "source": [
    "len(df[\"SHIPNAME\"].unique())"
   ]
  },
  {
   "cell_type": "code",
   "execution_count": 313,
   "metadata": {},
   "outputs": [
    {
     "data": {
      "text/plain": [
       "SHIPTYPE\n",
       "0     245\n",
       "1     105\n",
       "2     697\n",
       "3     974\n",
       "4      23\n",
       "6     464\n",
       "7    3817\n",
       "8    1724\n",
       "9     358\n",
       "Name: SHIPNAME, dtype: int64"
      ]
     },
     "execution_count": 313,
     "metadata": {},
     "output_type": "execute_result"
    }
   ],
   "source": [
    "df.groupby(\"SHIPTYPE\")[\"SHIPNAME\"].nunique()"
   ]
  },
  {
   "cell_type": "code",
   "execution_count": 304,
   "metadata": {},
   "outputs": [
    {
     "data": {
      "text/plain": [
       "((29664, 21), (29585, 21))"
      ]
     },
     "execution_count": 304,
     "metadata": {},
     "output_type": "execute_result"
    }
   ],
   "source": [
    "df[pd.to_numeric(df[\"DWT\"])>5000]\n",
    "df[\"SHIPNAME\"].astype(str,copy=False)\n",
    "df[df[\"SHIPNAME\"].str.contains(\"MINERVA\")]\n",
    "df.shape,df.drop_duplicates().shape\n",
    "#dfd=df.drop_duplicates(subset=\"SHIPNAME\")"
   ]
  },
  {
   "cell_type": "code",
   "execution_count": 305,
   "metadata": {},
   "outputs": [],
   "source": [
    "dfd[dfd[\"SHIPNAME\"].str.contains(\"MINERVA ASTRA\")]\n",
    "dfd[\"SHIPNAME\"].values\n",
    "c=df.groupby(\"SHIPNAME\")[\"SHIP_ID\"].nunique()\n",
    "#d=pd.to_numeric(c,'float').sort_values(ascending=False)"
   ]
  },
  {
   "cell_type": "code",
   "execution_count": 311,
   "metadata": {},
   "outputs": [
    {
     "data": {
      "text/plain": [
       "[SAT-AIS]               16888\n",
       "ALMI SUN                    9\n",
       "HELENA                      7\n",
       "ANNA                        7\n",
       "CONCEPTION LIGHT            7\n",
       "PUSAN C                     7\n",
       "SCF USSURI                  7\n",
       "USMA                        7\n",
       "MAERSK YORKTOWN             7\n",
       "MAERSK LAUNCESTON           7\n",
       "MSC JOSSELINE               6\n",
       "YASA H.MULLA                6\n",
       "HELEN N                     6\n",
       "X PRESS ANNAPURNA           6\n",
       "STENA CONQUEST              6\n",
       "MISTRAL                     6\n",
       "PATRIOT                     6\n",
       "NORSUL CRATEUS              6\n",
       "NAVIOS ASTERIKS             6\n",
       "MSC CLARA                   6\n",
       "ORVAR                       6\n",
       "MSC KATYAYNI                6\n",
       "WILLEM VAN DER ZWAN         6\n",
       "MAX JACOB                   6\n",
       "NAUTILUS                    6\n",
       "HOEGH CHIBA                 6\n",
       "ORE BRASIL                  6\n",
       "TEXAS                       6\n",
       "MSC MELINE                  6\n",
       "ANNELIES ILENA              6\n",
       "                        ...  \n",
       "BG DIAMOND                  1\n",
       "ALKHAIRAT 9                 1\n",
       "ARCO AVON                   1\n",
       "SCF ENDEAVOUR               1\n",
       "WUGANG INNOVATION           1\n",
       "J.M.CHRISTIAN 7             1\n",
       "BIRTHE BRES                 1\n",
       "GLOBAL EFFORT               1\n",
       "ISL STAR                    1\n",
       "BT 452                      1\n",
       "SCOUT                       1\n",
       "KRITI SEA                   1\n",
       "ASTURCON                    1\n",
       "AVA D                       1\n",
       "NSU OBELISK                 1\n",
       "EXCELLENCE                  1\n",
       "DOHA                        1\n",
       "COSTA ATLANTICA             1\n",
       "VTS 2515017                 1\n",
       "WES NICOLE                  1\n",
       "SOUTHERN ROUSE              1\n",
       "NORMA H                     1\n",
       "AMERICAN ANGLER             1\n",
       "RAGNHILD KRISTINE           1\n",
       "BUOY 944                    1\n",
       "RHONA                       1\n",
       "PAN BONA                    1\n",
       "VOLGO BALT 240              1\n",
       "FRONTIER YOUTH              1\n",
       "DESTINATION ANYWHERE        1\n",
       "Name: SHIPNAME, Length: 8314, dtype: int64"
      ]
     },
     "execution_count": 311,
     "metadata": {},
     "output_type": "execute_result"
    }
   ],
   "source": [
    "df[\"SHIPNAME\"].value_counts()"
   ]
  }
 ],
 "metadata": {
  "kernelspec": {
   "display_name": "Python 3",
   "language": "python",
   "name": "python3"
  },
  "language_info": {
   "codemirror_mode": {
    "name": "ipython",
    "version": 3
   },
   "file_extension": ".py",
   "mimetype": "text/x-python",
   "name": "python",
   "nbconvert_exporter": "python",
   "pygments_lexer": "ipython3",
   "version": "3.7.3"
  }
 },
 "nbformat": 4,
 "nbformat_minor": 2
}
