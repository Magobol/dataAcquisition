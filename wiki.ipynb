{
 "cells": [
  {
   "cell_type": "code",
   "execution_count": 2,
   "metadata": {},
   "outputs": [],
   "source": [
    "import requests as r\n",
    "from bs4 import BeautifulSoup\n",
    "import re\n",
    "\n",
    "p =re.compile(\"http\")\n"
   ]
  },
  {
   "cell_type": "code",
   "execution_count": null,
   "metadata": {
    "scrolled": true
   },
   "outputs": [],
   "source": []
  },
  {
   "cell_type": "code",
   "execution_count": null,
   "metadata": {},
   "outputs": [],
   "source": []
  },
  {
   "cell_type": "code",
   "execution_count": 31,
   "metadata": {},
   "outputs": [
    {
     "data": {
      "text/plain": [
       "['/wiki/Aide:Homonymie',\n",
       " '/wiki/Socrates_(homonymie)',\n",
       " '/wiki/Programme_de_l%27Union_europ%C3%A9enne',\n",
       " '/wiki/Erasmus',\n",
       " '/wiki/2007',\n",
       " '/wiki/%C3%89ducation',\n",
       " '/wiki/Conseil_europ%C3%A9en',\n",
       " '/wiki/Europe_centrale_et_orientale',\n",
       " '/wiki/Erasmus',\n",
       " '/wiki/Trait%C3%A9_de_Maastricht',\n",
       " '/wiki/Principe_de_subsidiarit%C3%A9',\n",
       " '/wiki/Union_europ%C3%A9enne',\n",
       " '/wiki/%C3%89tats_membres_de_l%27Union_europ%C3%A9enne',\n",
       " '/wiki/%C3%89ducation',\n",
       " '/wiki/Programme_europ%C3%A9en_Leonardo_da_Vinci',\n",
       " '/wiki/Erasmus_mundus',\n",
       " '/wiki/Tempus_(programme_europ%C3%A9en)',\n",
       " '/wiki/Erasmus_mundus',\n",
       " '/wiki/Comenius',\n",
       " '/wiki/Erasmus',\n",
       " '/wiki/Grundtvig',\n",
       " '/wiki/Lingua_(Union_europ%C3%A9enne)',\n",
       " '/wiki/Association_europ%C3%A9enne_de_libre-%C3%A9change',\n",
       " '/wiki/Islande',\n",
       " '/wiki/Liechtenstein',\n",
       " '/wiki/Norv%C3%A8ge',\n",
       " '/wiki/Turquie',\n",
       " '/wiki/Programme_de_l%27Union_europ%C3%A9enne',\n",
       " '/wiki/Projet_Comenius',\n",
       " '/wiki/Erasmus',\n",
       " '/wiki/Erasmus%2B',\n",
       " '/wiki/Erasmus_Mundus',\n",
       " '/wiki/Grundtvig',\n",
       " '/wiki/Lingua_(Union_europ%C3%A9enne)',\n",
       " '/wiki/Eurydice',\n",
       " '/wiki/Commission_europ%C3%A9enne',\n",
       " '/wiki/Commission_europ%C3%A9enne',\n",
       " '/wiki/Bibliographie_sur_l%27Union_europ%C3%A9enne',\n",
       " '/wiki/Erasmus',\n",
       " '/wiki/CREPUQ',\n",
       " '/wiki/Portail:Union_europ%C3%A9enne',\n",
       " '/wiki/Portail:Union_europ%C3%A9enne',\n",
       " '/wiki/Portail:%C3%89ducation',\n",
       " '/wiki/Portail:%C3%89ducation']"
      ]
     },
     "execution_count": 31,
     "metadata": {},
     "output_type": "execute_result"
    }
   ],
   "source": [
    "def liste_refs(link):\n",
    "      \n",
    "    data = r.get(link).content\n",
    "    soup = BeautifulSoup(data, 'html.parser')\n",
    "    l=[]\n",
    "    \n",
    "    for s in soup.find_all(class_='mw-parser-output')[0].select('a'):\n",
    "        a = s.get('href')\n",
    "        l.append(str(a))\n",
    "    \n",
    "    regex = re.compile('\\/wiki\\w*')\n",
    "    \n",
    "    return list(filter(regex.search,l))\n",
    "\n",
    "\n",
    "\n",
    "def distance(link):    \n",
    "    \n",
    "    path= \"https://fr.wikipedia.org\"\n",
    "    link_philo = \"/wiki/Philosophie\"\n",
    "    dist = 0\n",
    "    \n",
    "    link_philo = False\n",
    "    l = liste_refs(link)\n",
    "    while((link_philo in l)==False):\n",
    "        dist += dist +1\n",
    "        print(link,dist)\n",
    "        new_path =  path + l[5]\n",
    "        distance(new_path)\n",
    " \n",
    "                   \n",
    "    return dist\n",
    "\n",
    "liste_refs(\"https://fr.wikipedia.org/wiki/socrates\")"
   ]
  }
 ],
 "metadata": {
  "kernelspec": {
   "display_name": "Python 3",
   "language": "python",
   "name": "python3"
  },
  "language_info": {
   "codemirror_mode": {
    "name": "ipython",
    "version": 3
   },
   "file_extension": ".py",
   "mimetype": "text/x-python",
   "name": "python",
   "nbconvert_exporter": "python",
   "pygments_lexer": "ipython3",
   "version": "3.7.3"
  }
 },
 "nbformat": 4,
 "nbformat_minor": 2
}
