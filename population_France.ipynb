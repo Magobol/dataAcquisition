{
 "cells": [
  {
   "cell_type": "code",
   "execution_count": 157,
   "metadata": {},
   "outputs": [],
   "source": [
    "import pandas as pd\n",
    "\n",
    "df_pop = pd.read_csv(\"data/population_communes.csv\")\n",
    "df_surf = pd.read_csv(\"data/surface_departements.csv\")"
   ]
  },
  {
   "cell_type": "code",
   "execution_count": 183,
   "metadata": {
    "scrolled": true
   },
   "outputs": [],
   "source": [
    "dfm = pd.merge(df_pop,df_surf,left_on = \"Code département\", right_on = \"code_insee\",how=\"left\")"
   ]
  },
  {
   "cell_type": "code",
   "execution_count": 182,
   "metadata": {},
   "outputs": [],
   "source": [
    "surface_dep = dfm[[\"nom\",\"surf_km2\"]].groupby(\"nom\").sum()\n",
    "pop_region = dfm[[\"Nom de la région\",\"variable\",\"value\"]].groupby([\"Nom de la région\",\"variable\"])\n",
    "\n",
    "idx = pd.IndexSlice\n",
    "\n",
    "pop_region_2 = pop_region.sum().loc[idx[:,[\"Population totale\"]],:].reset_index()[[\"Nom de la région\",\"value\"]]"
   ]
  },
  {
   "cell_type": "code",
   "execution_count": 180,
   "metadata": {},
   "outputs": [],
   "source": [
    "pivot = pd.pivot_table(dfm,index = [\"nom\",\"Nom de la région\"] ,columns = \"variable\",values =\"value\" ,aggfunc=\"sum\")\n",
    "pivot_s = pd.merge(pivot,surface_dep,how=\"inner\",left_index=True,right_index=True).reset_index()\n",
    "pivot_s[\"dens\"]=pivot_s[\"Population totale\"]/pivot_s[\"surf_km2\"]\n",
    "pivot_f = pd.merge(pivot_s,pop_region_2,how=\"left\",left_on=\"Nom de la région\", right_on=\"Nom de la région\")"
   ]
  },
  {
   "cell_type": "code",
   "execution_count": 184,
   "metadata": {
    "scrolled": false
   },
   "outputs": [
    {
     "data": {
      "text/html": [
       "<div>\n",
       "<style scoped>\n",
       "    .dataframe tbody tr th:only-of-type {\n",
       "        vertical-align: middle;\n",
       "    }\n",
       "\n",
       "    .dataframe tbody tr th {\n",
       "        vertical-align: top;\n",
       "    }\n",
       "\n",
       "    .dataframe thead th {\n",
       "        text-align: right;\n",
       "    }\n",
       "</style>\n",
       "<table border=\"1\" class=\"dataframe\">\n",
       "  <thead>\n",
       "    <tr style=\"text-align: right;\">\n",
       "      <th></th>\n",
       "      <th>nom</th>\n",
       "      <th>Nom de la région</th>\n",
       "      <th>Population municipale</th>\n",
       "      <th>Population totale</th>\n",
       "      <th>surf_km2</th>\n",
       "      <th>dens</th>\n",
       "      <th>value</th>\n",
       "    </tr>\n",
       "  </thead>\n",
       "  <tbody>\n",
       "    <tr>\n",
       "      <th>0</th>\n",
       "      <td>Ain</td>\n",
       "      <td>Auvergne-Rhône-Alpes</td>\n",
       "      <td>638425</td>\n",
       "      <td>655171</td>\n",
       "      <td>4708176.0</td>\n",
       "      <td>0.139156</td>\n",
       "      <td>8104357</td>\n",
       "    </tr>\n",
       "    <tr>\n",
       "      <th>1</th>\n",
       "      <td>Aisne</td>\n",
       "      <td>Hauts-de-France</td>\n",
       "      <td>536136</td>\n",
       "      <td>549587</td>\n",
       "      <td>11916888.0</td>\n",
       "      <td>0.046118</td>\n",
       "      <td>6110588</td>\n",
       "    </tr>\n",
       "    <tr>\n",
       "      <th>2</th>\n",
       "      <td>Allier</td>\n",
       "      <td>Auvergne-Rhône-Alpes</td>\n",
       "      <td>339384</td>\n",
       "      <td>349336</td>\n",
       "      <td>4678286.0</td>\n",
       "      <td>0.074672</td>\n",
       "      <td>8104357</td>\n",
       "    </tr>\n",
       "    <tr>\n",
       "      <th>3</th>\n",
       "      <td>Alpes-Maritimes</td>\n",
       "      <td>Provence-Alpes-Côte d'Azur</td>\n",
       "      <td>1083704</td>\n",
       "      <td>1098539</td>\n",
       "      <td>1399844.0</td>\n",
       "      <td>0.784758</td>\n",
       "      <td>5103573</td>\n",
       "    </tr>\n",
       "    <tr>\n",
       "      <th>4</th>\n",
       "      <td>Alpes-de-Haute-Provence</td>\n",
       "      <td>Provence-Alpes-Côte d'Azur</td>\n",
       "      <td>162565</td>\n",
       "      <td>167331</td>\n",
       "      <td>2769228.0</td>\n",
       "      <td>0.060425</td>\n",
       "      <td>5103573</td>\n",
       "    </tr>\n",
       "  </tbody>\n",
       "</table>\n",
       "</div>"
      ],
      "text/plain": [
       "                       nom            Nom de la région  Population municipale  \\\n",
       "0                      Ain        Auvergne-Rhône-Alpes                 638425   \n",
       "1                    Aisne             Hauts-de-France                 536136   \n",
       "2                   Allier        Auvergne-Rhône-Alpes                 339384   \n",
       "3          Alpes-Maritimes  Provence-Alpes-Côte d'Azur                1083704   \n",
       "4  Alpes-de-Haute-Provence  Provence-Alpes-Côte d'Azur                 162565   \n",
       "\n",
       "   Population totale    surf_km2      dens    value  \n",
       "0             655171   4708176.0  0.139156  8104357  \n",
       "1             549587  11916888.0  0.046118  6110588  \n",
       "2             349336   4678286.0  0.074672  8104357  \n",
       "3            1098539   1399844.0  0.784758  5103573  \n",
       "4             167331   2769228.0  0.060425  5103573  "
      ]
     },
     "execution_count": 184,
     "metadata": {},
     "output_type": "execute_result"
    }
   ],
   "source": [
    "pivot_f.head(5)\n",
    "\n"
   ]
  },
  {
   "cell_type": "markdown",
   "metadata": {},
   "source": [
    "# Time Series"
   ]
  },
  {
   "cell_type": "code",
   "execution_count": 124,
   "metadata": {},
   "outputs": [
    {
     "data": {
      "text/plain": [
       "DatetimeIndex(['2018-12-20', '2018-12-21', '2018-12-24', '2018-12-25',\n",
       "               '2018-12-26', '2018-12-27', '2018-12-28', '2018-12-31',\n",
       "               '2019-01-01', '2019-01-02', '2019-01-03', '2019-01-04',\n",
       "               '2019-01-07', '2019-01-08', '2019-01-09', '2019-01-10',\n",
       "               '2019-01-11', '2019-01-14', '2019-01-15', '2019-01-16'],\n",
       "              dtype='datetime64[ns]', freq='B')"
      ]
     },
     "execution_count": 124,
     "metadata": {},
     "output_type": "execute_result"
    }
   ],
   "source": [
    "pd.date_range('2018-12-20',freq = 'B', periods = 20)"
   ]
  }
 ],
 "metadata": {
  "kernelspec": {
   "display_name": "Python 3",
   "language": "python",
   "name": "python3"
  },
  "language_info": {
   "codemirror_mode": {
    "name": "ipython",
    "version": 3
   },
   "file_extension": ".py",
   "mimetype": "text/x-python",
   "name": "python",
   "nbconvert_exporter": "python",
   "pygments_lexer": "ipython3",
   "version": "3.7.3"
  }
 },
 "nbformat": 4,
 "nbformat_minor": 2
}
